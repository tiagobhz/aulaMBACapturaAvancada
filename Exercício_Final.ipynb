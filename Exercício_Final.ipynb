{
  "nbformat": 4,
  "nbformat_minor": 0,
  "metadata": {
    "colab": {
      "name": "Exercício Final.ipynb",
      "provenance": [],
      "authorship_tag": "ABX9TyM/z3mq3+jKiRXbEXfk6OGW",
      "include_colab_link": true
    },
    "kernelspec": {
      "name": "python3",
      "display_name": "Python 3"
    },
    "language_info": {
      "name": "python"
    }
  },
  "cells": [
    {
      "cell_type": "markdown",
      "metadata": {
        "id": "view-in-github",
        "colab_type": "text"
      },
      "source": [
        "<a href=\"https://colab.research.google.com/github/tiagobhz/aulaMBACapturaAvancada/blob/master/Exerc%C3%ADcio_Final.ipynb\" target=\"_parent\"><img src=\"https://colab.research.google.com/assets/colab-badge.svg\" alt=\"Open In Colab\"/></a>"
      ]
    },
    {
      "cell_type": "code",
      "metadata": {
        "id": "UZJPjeRE2L0P"
      },
      "source": [
        "import os\n",
        "import pickle\n",
        "import json\n",
        "import requests\n",
        "import matplotlib.pyplot as plt\n",
        "import urllib.request\n",
        "from bs4 import BeautifulSoup as BS\n",
        "from zipfile import ZipFile\n",
        "\n",
        "\n",
        "url = 'https://www.google.com/googlebooks/uspto-patents-grants-text.html'\n",
        "response = urllib.request.urlopen(url)\n",
        "response.status\n",
        "\n",
        "\n",
        "soup = BS(response, 'html5lib')"
      ],
      "execution_count": 86,
      "outputs": []
    },
    {
      "cell_type": "code",
      "metadata": {
        "id": "3kIRkHhH3LLd"
      },
      "source": [
        "alguns = soup.find_all('a', href=True)"
      ],
      "execution_count": 2,
      "outputs": []
    },
    {
      "cell_type": "code",
      "metadata": {
        "id": "BROoblwT56mE"
      },
      "source": [
        "alguns2 = [l.get('href') for l in alguns if 'http' in l.get('href')]"
      ],
      "execution_count": 3,
      "outputs": []
    },
    {
      "cell_type": "code",
      "metadata": {
        "id": "BFS_oOCi90zO"
      },
      "source": [
        "links_gft1 = [n for n in alguns2 if 'grant_full_text' in n]\n",
        "\n",
        "\n",
        "links_gft2 = [n for n in links_gft1 if '.zip' in n]"
      ],
      "execution_count": 4,
      "outputs": []
    },
    {
      "cell_type": "code",
      "metadata": {
        "id": "KzvY9mg3DuGU"
      },
      "source": [
        "from collections import defaultdict\n",
        "\n",
        "my_dict = defaultdict(list)"
      ],
      "execution_count": 5,
      "outputs": []
    },
    {
      "cell_type": "code",
      "metadata": {
        "id": "JNsJn2IID93s"
      },
      "source": [
        "for ano in range(1997,2016):\n",
        "  for link in links_gft2:\n",
        "    if str(ano) in link:\n",
        "      my_dict[ano].append(link)"
      ],
      "execution_count": 6,
      "outputs": []
    },
    {
      "cell_type": "code",
      "metadata": {
        "id": "KL3Pg1CtGqMx"
      },
      "source": [
        "my_dict2 = {k:sum(1 for x in v if x) for k,v in my_dict.items()}"
      ],
      "execution_count": 7,
      "outputs": []
    },
    {
      "cell_type": "code",
      "metadata": {
        "id": "M1Ot-Qbh1tN7"
      },
      "source": [
        "my_dict3 = sum(my_dict2.values())"
      ],
      "execution_count": 22,
      "outputs": []
    },
    {
      "cell_type": "code",
      "metadata": {
        "colab": {
          "base_uri": "https://localhost:8080/"
        },
        "id": "4OdcSgAxISJd",
        "outputId": "5a9ca461-3279-4537-9c24-5eee3996a954"
      },
      "source": [
        "for key, value in my_dict2.items() :\n",
        "    print (f'No ano de {key} haviam {value} patentes')"
      ],
      "execution_count": 17,
      "outputs": [
        {
          "output_type": "stream",
          "text": [
            "No ano de 1997 haviam 52 patentes\n",
            "No ano de 1998 haviam 52 patentes\n",
            "No ano de 1999 haviam 52 patentes\n",
            "No ano de 2000 haviam 52 patentes\n",
            "No ano de 2001 haviam 104 patentes\n",
            "No ano de 2002 haviam 53 patentes\n",
            "No ano de 2003 haviam 52 patentes\n",
            "No ano de 2004 haviam 52 patentes\n",
            "No ano de 2005 haviam 52 patentes\n",
            "No ano de 2006 haviam 52 patentes\n",
            "No ano de 2007 haviam 52 patentes\n",
            "No ano de 2008 haviam 53 patentes\n",
            "No ano de 2009 haviam 52 patentes\n",
            "No ano de 2010 haviam 57 patentes\n",
            "No ano de 2011 haviam 58 patentes\n",
            "No ano de 2012 haviam 57 patentes\n",
            "No ano de 2013 haviam 54 patentes\n",
            "No ano de 2014 haviam 52 patentes\n",
            "No ano de 2015 haviam 11 patentes\n"
          ],
          "name": "stdout"
        }
      ]
    },
    {
      "cell_type": "code",
      "metadata": {
        "colab": {
          "base_uri": "https://localhost:8080/"
        },
        "id": "zPQMKqha2MtB",
        "outputId": "2a0d8290-dc7d-427e-cfd5-30cc10b5025c"
      },
      "source": [
        "print(f'Quantidade total de arquivos zip: {my_dict3}')"
      ],
      "execution_count": 24,
      "outputs": [
        {
          "output_type": "stream",
          "text": [
            "Quantidade total de arquivos zip: 1019\n"
          ],
          "name": "stdout"
        }
      ]
    },
    {
      "cell_type": "code",
      "metadata": {
        "colab": {
          "base_uri": "https://localhost:8080/",
          "height": 402
        },
        "id": "EfgIxohJKwYN",
        "outputId": "f0ad923e-4ca7-47ac-b667-2783778f0625"
      },
      "source": [
        "plt.figure(figsize=(20,6))\n",
        "plt.xticks(rotation=90)\n",
        "plt.bar(my_dict2.keys(), my_dict2.values(), width=0.8, color='r')\n"
      ],
      "execution_count": 148,
      "outputs": [
        {
          "output_type": "execute_result",
          "data": {
            "text/plain": [
              "<BarContainer object of 19 artists>"
            ]
          },
          "metadata": {},
          "execution_count": 148
        },
        {
          "output_type": "display_data",
          "data": {
            "image/png": "[encoded data removed]",
            "text/plain": [
              "<Figure size 1440x432 with 1 Axes>"
            ]
          },
          "metadata": {
            "needs_background": "light"
          }
        }
      ]
    },
    {
      "cell_type": "code",
      "metadata": {
        "id": "JBUpO4FEN_Q-"
      },
      "source": [
        "if not os.path.exists('data'):\n",
        "    os.mkdir('data')\n",
        "\n",
        "def save_pickle(ob, name):\n",
        "    with open(name, 'wb') as handler:\n",
        "        pickle.dump(ob, handler)\n",
        "    print('Saved!!!')\n",
        "\n",
        "save_pickle(my_dict, 'data/pyckle_my_dict')\n",
        "save_pickle(my_dict2, 'data/pyckle_my_dict2')"
      ],
      "execution_count": null,
      "outputs": []
    },
    {
      "cell_type": "code",
      "metadata": {
        "id": "TG7WTwXRPXRZ"
      },
      "source": [
        "json_object1 = json.dumps(my_dict)\n",
        "json_object2 = json.dumps(my_dict2)"
      ],
      "execution_count": 11,
      "outputs": []
    },
    {
      "cell_type": "code",
      "metadata": {
        "id": "KPVQpWOXPcfX"
      },
      "source": [
        "def save_json(ob, filename):\n",
        "    with open(filename, 'w') as handler:\n",
        "        json.dump(ob, handler)\n",
        "    print(f'Saved! You can check {filename}')\n",
        "\n",
        "# Loading\n",
        "def load_json(filename):\n",
        "    with open(filename, \"r\") as handler:\n",
        "        ll = json.load(handler)\n",
        "    print(f'A soma da lista lida é {sum(ll):,.0f}')"
      ],
      "execution_count": 12,
      "outputs": []
    },
    {
      "cell_type": "code",
      "metadata": {
        "id": "FcYrerPAPwQM"
      },
      "source": [
        "save_json(json_object1, 'data/json1.json')\n",
        "save_json(json_object2, 'data/json2.json')\n"
      ],
      "execution_count": null,
      "outputs": []
    },
    {
      "cell_type": "code",
      "metadata": {
        "id": "72AXOJU_08x9"
      },
      "source": [
        "lista1 = list(my_dict.values())[0]"
      ],
      "execution_count": 73,
      "outputs": []
    },
    {
      "cell_type": "code",
      "metadata": {
        "colab": {
          "base_uri": "https://localhost:8080/",
          "height": 35
        },
        "id": "MfU4btcd3GwM",
        "outputId": "d8ef2ff8-7166-48d0-cae7-08bdc83f690d"
      },
      "source": [
        "lista2 = lista1[0]"
      ],
      "execution_count": 77,
      "outputs": [
        {
          "output_type": "execute_result",
          "data": {
            "application/vnd.google.colaboratory.intrinsic+json": {
              "type": "string"
            },
            "text/plain": [
              "'http://storage.googleapis.com/patents/grant_full_text/1997/pftaps19970107_wk01.zip'"
            ]
          },
          "metadata": {},
          "execution_count": 77
        }
      ]
    },
    {
      "cell_type": "code",
      "metadata": {
        "colab": {
          "base_uri": "https://localhost:8080/",
          "height": 35
        },
        "id": "Dj31IosZ_9eV",
        "outputId": "1ed46f36-ffc0-4252-97c6-83163ba45f19"
      },
      "source": [
        "name = lista2.split('/')[6]"
      ],
      "execution_count": 84,
      "outputs": [
        {
          "output_type": "execute_result",
          "data": {
            "application/vnd.google.colaboratory.intrinsic+json": {
              "type": "string"
            },
            "text/plain": [
              "'pftaps19970107_wk01.zip'"
            ]
          },
          "metadata": {},
          "execution_count": 84
        }
      ]
    },
    {
      "cell_type": "code",
      "metadata": {
        "id": "Y_a3kmfj0O1o"
      },
      "source": [
        "r = requests.get(lista2)\n",
        "with open(f'data/{name}', 'wb') as handler:\n",
        "    handler.write(r.content)"
      ],
      "execution_count": 85,
      "outputs": []
    },
    {
      "cell_type": "code",
      "metadata": {
        "id": "zHYruu7_Ab0w"
      },
      "source": [
        "if not os.path.exists('temp'):\n",
        "    os.mkdir('temp')\n",
        "\n",
        "\n",
        "with ZipFile(f'data/{name}', 'r') as zipObj:\n",
        "   zipObj.extractall('temp')\n"
      ],
      "execution_count": 90,
      "outputs": []
    },
    {
      "cell_type": "code",
      "metadata": {
        "id": "WpLvyKEJInQg"
      },
      "source": [
        "datasize = defaultdict(list)\n",
        "\n",
        "ano = [1997, 1998]\n",
        "for key, values in my_dict.items():\n",
        "  if key in ano:\n",
        "    for value in values:\n",
        "      with urllib.request.urlopen(value) as handler:\n",
        "        datasize[key].append(int(handler.getheader('Content-Length')))"
      ],
      "execution_count": null,
      "outputs": []
    },
    {
      "cell_type": "code",
      "metadata": {
        "id": "tZTKW0mQJ08i"
      },
      "source": [
        "datasize2 = defaultdict(list)\n",
        "\n",
        "for key in datasize:\n",
        "  datasize2[key] = [sum(datasize[key])]"
      ],
      "execution_count": 145,
      "outputs": []
    },
    {
      "cell_type": "code",
      "metadata": {
        "colab": {
          "base_uri": "https://localhost:8080/"
        },
        "id": "dvxxZWswS1mB",
        "outputId": "f69fa72d-9fdb-4b8c-c348-2a8c738e56b7"
      },
      "source": [
        "datasize2"
      ],
      "execution_count": 147,
      "outputs": [
        {
          "output_type": "execute_result",
          "data": {
            "text/plain": [
              "defaultdict(list, {1997: [1412850219], 1998: [2032559450]})"
            ]
          },
          "metadata": {},
          "execution_count": 147
        }
      ]
    },
    {
      "cell_type": "code",
      "metadata": {
        "id": "mKRtvo-zUQgp"
      },
      "source": [
        ""
      ],
      "execution_count": null,
      "outputs": []
    }
  ]
}